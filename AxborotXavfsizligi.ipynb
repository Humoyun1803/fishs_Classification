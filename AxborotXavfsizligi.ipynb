{
  "nbformat": 4,
  "nbformat_minor": 0,
  "metadata": {
    "colab": {
      "provenance": [],
      "authorship_tag": "ABX9TyN4BYRxbtQPXyqKo14GAARM",
      "include_colab_link": true
    },
    "kernelspec": {
      "name": "python3",
      "display_name": "Python 3"
    },
    "language_info": {
      "name": "python"
    }
  },
  "cells": [
    {
      "cell_type": "markdown",
      "metadata": {
        "id": "view-in-github",
        "colab_type": "text"
      },
      "source": [
        "<a href=\"https://colab.research.google.com/github/Humoyun1803/fishs_Classification/blob/master/AxborotXavfsizligi.ipynb\" target=\"_parent\"><img src=\"https://colab.research.google.com/assets/colab-badge.svg\" alt=\"Open In Colab\"/></a>"
      ]
    },
    {
      "cell_type": "code",
      "execution_count": null,
      "metadata": {
        "id": "jOM3Y2ot37kk"
      },
      "outputs": [],
      "source": []
    },
    {
      "cell_type": "markdown",
      "source": [
        "#Sezar usuli"
      ],
      "metadata": {
        "id": "MvWasAAH4DYW"
      }
    },
    {
      "cell_type": "code",
      "source": [
        "def encrypt(text, s):\n",
        "    result = \"\"\n",
        "\n",
        "    # traverse text\n",
        "    for i in range(len(text)):\n",
        "        char = text[i]\n",
        "\n",
        "        # Encrypt uppercase characters\n",
        "        if (char.isupper()):\n",
        "            result += chr((ord(char) + s - 65) % 26 + 65)\n",
        "\n",
        "        # Encrypt lowercase characters\n",
        "        else:\n",
        "            result += chr((ord(char) + s - 97) % 26 + 97)\n",
        "\n",
        "    return result\n",
        "\n",
        "\n",
        "# check the above function\n",
        "text = \"HelloWorld\"\n",
        "s = 3\n",
        "print(\"Text  : \" + text)\n",
        "print(\"Shift : \" + str(s))\n",
        "print(\"Cipher: \" + encrypt(text, s))"
      ],
      "metadata": {
        "colab": {
          "base_uri": "https://localhost:8080/"
        },
        "id": "IsrzDGO_4G_Z",
        "outputId": "bed58e58-7d30-41cb-8c97-caec886b8573"
      },
      "execution_count": null,
      "outputs": [
        {
          "output_type": "stream",
          "name": "stdout",
          "text": [
            "Text  : HelloWorld\n",
            "Shift : 3\n",
            "Cipher: KhoorZruog\n"
          ]
        }
      ]
    },
    {
      "cell_type": "markdown",
      "source": [
        "#Sehrli kvadrat usuli"
      ],
      "metadata": {
        "id": "15DlmJH_4NuV"
      }
    },
    {
      "cell_type": "code",
      "source": [
        "import numpy as np\n",
        "import sys\n",
        "order = int(input(\"Sehrli kvadrat tartibini kiriting (tartib toq bo'lishi kerak): \"))\n",
        "\n",
        "if order%2==0:\n",
        "    order = order+1\n",
        "    print(\"Berilgan tartib teng, shuning uchun u 1 ga oshiriladi.\")\n",
        "mid = order//2\n",
        "\n",
        "magic = np.zeros((order,order))\n",
        "\n",
        "k = mid\n",
        "j = 0\n",
        "\n",
        "for i in range(1,order*order+1):\n",
        "    magic[j][k] = i\n",
        "    p = j\n",
        "    j = j-1\n",
        "    q = k\n",
        "    k = k+1\n",
        "    \n",
        "    \n",
        "    if j<0:\n",
        "        j = order-1\n",
        "    \n",
        "    if k>order-1:\n",
        "        k = 0\n",
        "    \n",
        "    if magic[j][k]!=0:\n",
        "        k = q\n",
        "        j = p+1\n",
        "\n",
        "print(\"Yaratilgan sehrli maydon: \\n\")\n",
        "\n",
        "for j in range(order):\n",
        "    print(\"|\", end=\"\")\n",
        "    \n",
        "    for k in range(order):\n",
        "        print(\"%4d |\" % magic[j][k], end=\"\")\n",
        "    \n",
        "    print()\n",
        "    \n",
        "    for i in range(1, 6*order+1):\n",
        "        print(\"-\", end=\"\")\n",
        "    \n",
        "    print()"
      ],
      "metadata": {
        "colab": {
          "base_uri": "https://localhost:8080/"
        },
        "id": "Rd_bF4Yu4nk9",
        "outputId": "c94e7de4-b44a-4ea7-9ae3-0f61cf4a4af9"
      },
      "execution_count": null,
      "outputs": [
        {
          "output_type": "stream",
          "name": "stdout",
          "text": [
            "Sehrli kvadrat tartibini kiriting (tartib toq bo'lishi kerak): 3\n",
            "Yaratilgan sehrli maydon: \n",
            "\n",
            "|   8 |   1 |   6 |\n",
            "------------------\n",
            "|   3 |   5 |   7 |\n",
            "------------------\n",
            "|   4 |   9 |   2 |\n",
            "------------------\n"
          ]
        }
      ]
    },
    {
      "cell_type": "code",
      "source": [
        "def generateKey(string, key):\n",
        "    key = list(key)\n",
        "    if len(string) == len(key):\n",
        "        return(key)\n",
        "    else:\n",
        "        for i in range(len(string) -\n",
        "                       len(key)):\n",
        "            key.append(key[i % len(key)])\n",
        "    return(\"\" . join(key))\n",
        "     \n",
        "# This function returns the\n",
        "# encrypted text generated\n",
        "# with the help of the key\n",
        "def cipherText(string, key):\n",
        "    cipher_text = []\n",
        "    for i in range(len(string)):\n",
        "        x = (ord(string[i]) +\n",
        "             ord(key[i])) % 26\n",
        "        x += ord('A')\n",
        "        cipher_text.append(chr(x))\n",
        "    return(\"\" . join(cipher_text))\n",
        "     \n",
        "# This function decrypts the\n",
        "# encrypted text and returns\n",
        "# the original text\n",
        "def originalText(cipher_text, key):\n",
        "    orig_text = []\n",
        "    for i in range(len(cipher_text)):\n",
        "        x = (ord(cipher_text[i]) -\n",
        "             ord(key[i]) + 26) % 26\n",
        "        x += ord('A')\n",
        "        orig_text.append(chr(x))\n",
        "    return(\"\" . join(orig_text))\n",
        "     \n",
        "# Driver code\n",
        "if __name__ == \"__main__\":\n",
        "    string = \"men\"\n",
        "    keyword = \"sen\"\n",
        "    key = generateKey(string, keyword)\n",
        "    cipher_text = cipherText(string,key)\n",
        "    print(\"Shifrlangan matn :\", cipher_text)\n",
        "    print(\"Asl/shifrlangan matn:\",\n",
        "           originalText(cipher_text, key))"
      ],
      "metadata": {
        "id": "qnzxHGfy43NF",
        "colab": {
          "base_uri": "https://localhost:8080/"
        },
        "outputId": "bbeddaa1-8204-4fbf-9228-c8a032649871"
      },
      "execution_count": null,
      "outputs": [
        {
          "output_type": "stream",
          "name": "stdout",
          "text": [
            "Shifrlangan matn : QUM\n",
            "Asl/shifrlangan matn: SKT\n"
          ]
        }
      ]
    },
    {
      "cell_type": "code",
      "source": [
        "def generateKey(string, key):\n",
        "    key = list(key)\n",
        "    if len(string) == len(key):\n",
        "        return(key)\n",
        "    else:\n",
        "        for i in range(len(string) -\n",
        "                       len(key)):\n",
        "            key.append(key[i % len(key)])\n",
        "    return(\"\" . join(key))\n",
        "     \n",
        "# This function returns the\n",
        "# encrypted text generated\n",
        "# with the help of the key\n",
        "def cipherText(string, key):\n",
        "    cipher_text = []\n",
        "    for i in range(len(string)):\n",
        "        x = (ord(string[i]) +\n",
        "             ord(key[i])) % 26\n",
        "        x += ord('A')\n",
        "        cipher_text.append(chr(x))\n",
        "    return(\"\" . join(cipher_text))\n",
        "     \n",
        "# This function decrypts the\n",
        "# encrypted text and returns\n",
        "# the original text\n",
        "def originalText(cipher_text, key):\n",
        "    orig_text = []\n",
        "    for i in range(len(cipher_text)):\n",
        "        x = (ord(cipher_text[i]) -\n",
        "             ord(key[i]) + 26) % 26\n",
        "        x += ord('A')\n",
        "        orig_text.append(chr(x))\n",
        "    return(\"\" . join(orig_text))\n",
        "     \n",
        "# Driver code\n",
        "if __name__ == \"__main__\":\n",
        "    string = \"GEEKSFORGEEKS\"\n",
        "    keyword = \"AYUSH\"\n",
        "    key = generateKey(string, keyword)\n",
        "    cipher_text = cipherText(string,key)\n",
        "    print(\"Ciphertext :\", cipher_text)\n",
        "    print(\"Original/Decrypted Text :\",\n",
        "           originalText(cipher_text, key))"
      ],
      "metadata": {
        "id": "OCMDLEDLQU2L"
      },
      "execution_count": null,
      "outputs": []
    },
    {
      "cell_type": "markdown",
      "source": [
        "#Parollar generatori\n"
      ],
      "metadata": {
        "id": "lZ5y-vgMwryb"
      }
    },
    {
      "cell_type": "markdown",
      "source": [
        "Modul stringalifboni aniqlash uchun foydalanishimiz mumkin bo'lgan satr konstantalarini taqdim etadi. Biz quyidagi satr konstantalaridan foydalanamiz:\n",
        "\n",
        "Bu **ascii_letters** kichik va katta harflarning birikmasidir.\n",
        "Konstanta 0 dan 9 gacha bo'lgan raqamlarni o'z ichiga olgan **digits** qatordir: '0123456789'.\n",
        "Konstanta punctuationbarcha maxsus belgilar qatoridir.\n"
      ],
      "metadata": {
        "id": "th6G7LArwy-o"
      }
    },
    {
      "cell_type": "code",
      "source": [
        "import secrets\n",
        "import string\n"
      ],
      "metadata": {
        "id": "eYbNVLFuwxJR"
      },
      "execution_count": 1,
      "outputs": []
    },
    {
      "cell_type": "markdown",
      "source": [
        "Nihoyat, alifboni olish uchun yuqoridagi satr konstantalarini birlashtiramiz."
      ],
      "metadata": {
        "id": "P1a6rX1pxgH0"
      }
    },
    {
      "cell_type": "code",
      "source": [
        "letters = string.ascii_letters\n",
        "digits = string.digits\n",
        "special_chars = string.punctuation\n",
        "alphabet = letters + digits + special_chars"
      ],
      "metadata": {
        "id": "yNKariUJxS9c"
      },
      "execution_count": 3,
      "outputs": []
    },
    {
      "cell_type": "markdown",
      "source": [
        "Parol uzunligini o'zgaruvchiga saqlaymiz **pwd_length**. Ushbu misolda parol qatori uzunligi 12 ga teng."
      ],
      "metadata": {
        "id": "c9LQzFUxxqXp"
      }
    },
    {
      "cell_type": "code",
      "source": [
        "pwd_length = 12"
      ],
      "metadata": {
        "id": "TtnXP2-txjag"
      },
      "execution_count": 4,
      "outputs": []
    },
    {
      "cell_type": "code",
      "source": [
        "pwd = ''\n",
        "for i in range(pwd_length):\n",
        "  pwd += ''.join(secrets.choice(alphabet))\n",
        "\n",
        "print(pwd)"
      ],
      "metadata": {
        "colab": {
          "base_uri": "https://localhost:8080/"
        },
        "id": "kmIDp_IVx6mO",
        "outputId": "2455046a-39bd-4a24-d23e-74346bbcc2e5"
      },
      "execution_count": 5,
      "outputs": [
        {
          "output_type": "stream",
          "name": "stdout",
          "text": [
            "BwO:3&_~9C#m\n"
          ]
        }
      ]
    },
    {
      "cell_type": "markdown",
      "source": [
        "Yuqoridagi kod quyidagilarni bajaradi:\n",
        "\n",
        "Parol qatori **pwd** dastlab bo'sh qatordir.\n",
        "Biz bilamizki, u **secrets.choice(alphabet)**dan tasodifiy tanlab olingan bitta belgini qaytaradi alphabet.\n",
        "join() Ushbu belgini satrga qo'shish usulidan foydalanamiz pwd. Belgilar o'rtasida bo'sh joy bo'lishini istamasligimiz uchun ajratuvchini belgilaymiz ''.\n",
        "Parolni yaratish uchun yuqoridagi amallarni takrorlash uchun biz parol uzunligiga teng bo'lgan ko'p iteratsiya uchun ishlaydigan tsikldan foydalanamiz."
      ],
      "metadata": {
        "id": "fwU61_p9yCJm"
      }
    },
    {
      "cell_type": "markdown",
      "source": [
        "#Cheklovlar asosida parollaringizni sozlang"
      ],
      "metadata": {
        "id": "fd2DlYfdygYm"
      }
    },
    {
      "cell_type": "markdown",
      "source": [
        "Parol ishlab chiqarishni muayyan cheklovlarga mos kelishini tekshirish orqali sozlashingiz mumkin.\n",
        "\n",
        "Masalan, 12 uzunlikdagi yaratilgan parol qatori quyidagi cheklovlarga mos kelishini tekshirib ko'raylik:\n",
        "\n",
        "Satr **pwd** kamida bitta maxsus belgidan iborat bo'lishi kerak.\n",
        "U kamida ikkita raqamdan iborat bo'lishi kerak.\n",
        "Quyidagi kod parchasida **if**siz belgilagan cheklovlarga muvofiq bayonot tekshiradigan shartni o'zgartirishingiz mumkin."
      ],
      "metadata": {
        "id": "tcDq-vdYylft"
      }
    },
    {
      "cell_type": "code",
      "source": [
        "while True:\n",
        "  pwd = ''\n",
        "  for i in range(pwd_length):\n",
        "    pwd += ''.join(secrets.choice(alphabet))\n",
        "\n",
        "  if (any(char in special_chars for char in pwd) and \n",
        "      sum(char in digits for char in pwd)>=2):\n",
        "          break\n",
        "print(pwd)"
      ],
      "metadata": {
        "colab": {
          "base_uri": "https://localhost:8080/"
        },
        "id": "I8Xxo4ahyh5z",
        "outputId": "623de030-b9c3-42e0-9e71-e69d0a11b705"
      },
      "execution_count": 6,
      "outputs": [
        {
          "output_type": "stream",
          "name": "stdout",
          "text": [
            "mH2Wbs%\"U1?X\n"
          ]
        }
      ]
    },
    {
      "cell_type": "markdown",
      "source": [
        "Yuqoridagi kod katakchasida biz cheksiz **while** tsiklidan foydalanamiz , u parollar qatori **pwd** cheklovlarga javob bermasa, ishlaydi. Yaratilgan parol **pwd** cheklovlarni qondirsa, biz cheksiz tsikldan chiqib ketamiz.\n",
        "\n",
        "Mana Python parol generatori uchun toʻliq kod:"
      ],
      "metadata": {
        "id": "jChEQAL4yzfB"
      }
    },
    {
      "cell_type": "code",
      "source": [
        "import secrets\n",
        "import string\n",
        "\n",
        "# define the alphabet\n",
        "letters = string.ascii_letters\n",
        "digits = string.digits\n",
        "special_chars = string.punctuation\n",
        "\n",
        "alphabet = letters + digits + special_chars\n",
        "\n",
        "# fix password length\n",
        "pwd_length = 12\n",
        "\n",
        "# generate a password string\n",
        "pwd = ''\n",
        "for i in range(pwd_length):\n",
        "  pwd += ''.join(secrets.choice(alphabet))\n",
        "\n",
        "print(pwd)\n",
        "\n",
        "# generate password meeting constraints\n",
        "while True:\n",
        "  pwd = ''\n",
        "  for i in range(pwd_length):\n",
        "    pwd += ''.join(secrets.choice(alphabet))\n",
        "\n",
        "  if (any(char in special_chars for char in pwd) and \n",
        "      sum(char in digits for char in pwd)>=2):\n",
        "          break\n",
        "print(pwd)"
      ],
      "metadata": {
        "colab": {
          "base_uri": "https://localhost:8080/"
        },
        "id": "JOA0vR26ywEx",
        "outputId": "bf1cd522-7be6-4943-ed1b-4dcfec2765a1"
      },
      "execution_count": 7,
      "outputs": [
        {
          "output_type": "stream",
          "name": "stdout",
          "text": [
            "ef]_bWBd4)h9\n",
            "!NC0rVU9;yo%\n"
          ]
        }
      ]
    },
    {
      "cell_type": "markdown",
      "source": [
        "**Xulosa**\n",
        "\n",
        "Kriptografik jihatdan xavfsiz parollarni yaratish uchun siz tasodifiy moduldan emas , balki sirlar modulidan foydalanishingiz kerak .\n",
        "Kuchli parol etarlicha uzun bo'lishi va tasodifiy bo'lishi kerak, chunki uni oldindan aytib bo'lmaydi yoki yaratib bo'lmaydi. Bu katta va kichik harflar, raqamlar va maxsus belgilarning kombinatsiyasi bo'lishi kerak.\n",
        "Python mos ravishda **ascii_letters** , **digits** va **punktuatsiya** konstantalaridagi barcha harflar, raqamlar va maxsus belgilarni ta'minlaydigan o'rnatilgan **string** moduli bilan birga keladi. Ushbu satr konstantalariga kirish uchun string.constant sintaksisidan foydalaning.\n",
        "Parol yaratish uchun alifboni (barcha belgilar to'plami) aniqlash uchun yuqoridagi konstantalardan foydalanishingiz mumkin.\n",
        "Alifboni aniqlaganingizdan so'ng, undan tasodifiy belgini tanlash uchun secrets.choice() dan foydalanishingiz mumkin. Buni parol uzunligi uchun takrorlash uchun for loopidan foydalanishingiz mumkin."
      ],
      "metadata": {
        "id": "2hWVd55czQzi"
      }
    },
    {
      "cell_type": "code",
      "source": [],
      "metadata": {
        "id": "mB-aDMWnzhWz"
      },
      "execution_count": null,
      "outputs": []
    }
  ]
}